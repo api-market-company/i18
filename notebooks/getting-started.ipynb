{
 "cells": [
  {
   "cell_type": "markdown",
   "id": "32ba68f6",
   "metadata": {},
   "source": [
    "# Replace string"
   ]
  },
  {
   "cell_type": "code",
   "execution_count": 2,
   "id": "5d31e9bb",
   "metadata": {},
   "outputs": [],
   "source": [
    "from i18.grammars import html_grammar\n",
    "from i18.parser import sub"
   ]
  },
  {
   "cell_type": "code",
   "execution_count": 26,
   "id": "b43ea498",
   "metadata": {},
   "outputs": [
    {
     "data": {
      "text/plain": [
       "'<p>0<p>1<p>2</p></p></p>'"
      ]
     },
     "execution_count": 26,
     "metadata": {},
     "output_type": "execute_result"
    }
   ],
   "source": [
    "sub(html_grammar, lambda token: str(int(token)-1), \"<p>1<p>2<p>3</p></p></p>\")"
   ]
  }
 ],
 "metadata": {
  "kernelspec": {
   "display_name": "Python 3 (ipykernel)",
   "language": "python",
   "name": "python3"
  },
  "language_info": {
   "codemirror_mode": {
    "name": "ipython",
    "version": 3
   },
   "file_extension": ".py",
   "mimetype": "text/x-python",
   "name": "python",
   "nbconvert_exporter": "python",
   "pygments_lexer": "ipython3",
   "version": "3.10.9"
  }
 },
 "nbformat": 4,
 "nbformat_minor": 5
}
